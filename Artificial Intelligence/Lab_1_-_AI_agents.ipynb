{
 "cells": [
  {
   "cell_type": "markdown",
   "id": "6736b1ab",
   "metadata": {},
   "source": [
    "# Part 0: Preliminary information\n",
    "\n",
    "## Organization of the labs\n",
    "\n",
    "Most lab sessions will be done based on Jupyter notebooks. The notebooks will be uploaded on StudIP. No preliminary preparation is needed. The notebook might be accompanied by a PDF for more theoretical questions. It is important to note that the labs are not only about coding, but mostly about understanding the concepts of the course and thinking on formalizing and solving problems.\n",
    "\n",
    "The labs are **not** optional: they are part of the course, and some contents will be covered only there, not during the lectures. \n",
    "\n",
    "Attendance is not compulsory, but strongly encouraged. \n",
    "\n",
    "Some questions are left for the most curious of you. These questions are indicated with a **(!)** symbol. Do not solve them during the session. These questions are optional but not graded.  \n",
    "\n",
    "\n",
    "## Prerequisites\n",
    "\n",
    "* Python 3.7 or newer\n",
    "* Packages numpy and matplotlib"
   ]
  },
  {
   "cell_type": "code",
   "execution_count": 50,
   "id": "45fefc8f",
   "metadata": {},
   "outputs": [],
   "source": [
    "import numpy as np\n",
    "import matplotlib.pyplot as plt\n",
    "from dataclasses import dataclass\n",
    "from enum import Enum\n",
    "from random import sample\n",
    "import copy\n",
    "from copy import deepcopy\n",
    "from collections import deque\n",
    "import matplotlib.pyplot as plt"
   ]
  },
  {
   "cell_type": "markdown",
   "id": "ae82b2a3",
   "metadata": {},
   "source": [
    "# Part 1: The monkey and banana environment\n",
    "\n",
    "In this session, we explore the problem of the monkey and the banana introduced in the first lecture. This example will be a recurrent example all along the lecture: it has all the characteristics of a real AI problem, but its small size makes it easier to test methods on it. \n",
    "\n",
    "In this problem, the agent is a monkey whose goal is to grab a banana hanging from the ceiling. The monkey can reach the banana by climbing upon a box.\n",
    "\n",
    "## First contact with the environment\n",
    "\n",
    "The environment is fully defined with the following three classes.\n",
    "\n",
    "* ```MonkeyBananaState```: Implementation of a state of the environment, namely the horizontal position of the box (integer), the horizontal position of the banana (integer) and the vertical position of the monkey (Boolean). Note that the position of the monkey describes whether the monkey is on the box (value equals ```True```) or on the floor (value equals ```False```)"
   ]
  },
  {
   "cell_type": "code",
   "execution_count": 5,
   "id": "f6f69dd3",
   "metadata": {},
   "outputs": [],
   "source": [
    "@dataclass\n",
    "class MonkeyBananaState:\n",
    "    \"\"\"\n",
    "    Class describing states of the environment. A state is given by the\n",
    "    position of the box, the position of the banana and the position of\n",
    "    the monkey. \n",
    "    \"\"\"\n",
    "    box_position: int\n",
    "    banana_position: int\n",
    "    is_monkey_up: bool\n",
    "    \n",
    "    def vector_representation(self):\n",
    "        return (self.box_position, self.banana_position, self.is_monkey_up)"
   ]
  },
  {
   "cell_type": "markdown",
   "id": "e2e0ddb1",
   "metadata": {},
   "source": [
    "For instance, you can define a state where the box is in cell 1, the banana in cell 2 and the monkey on the box as follows:"
   ]
  },
  {
   "cell_type": "code",
   "execution_count": 6,
   "id": "bf593e72",
   "metadata": {},
   "outputs": [
    {
     "name": "stdout",
     "output_type": "stream",
     "text": [
      "MonkeyBananaState(box_position=1, banana_position=2, is_monkey_up=True)\n"
     ]
    }
   ],
   "source": [
    "state = MonkeyBananaState(1, 2, True)\n",
    "print(state)"
   ]
  },
  {
   "cell_type": "markdown",
   "id": "c3d49a14",
   "metadata": {},
   "source": [
    "* ```MonkeyBananaAction```: Enumeration of the potential actions of the monkey. Note that this set of actions is fixed, but that in practice all of them won't be necessarily available to the agent. Determining which actions are available in which state is the responsibility of the environment class itself."
   ]
  },
  {
   "cell_type": "code",
   "execution_count": 7,
   "id": "4d125d1c",
   "metadata": {},
   "outputs": [],
   "source": [
    "class MonkeyBananaAction(Enum):\n",
    "    GRAB           = 0\n",
    "    CLIMB          = 1\n",
    "    GO_DOWN        = 2\n",
    "    MOVE_BOX_LEFT  = 3\n",
    "    MOVE_BOX_RIGHT = 4"
   ]
  },
  {
   "cell_type": "markdown",
   "id": "81386c90",
   "metadata": {},
   "source": [
    "* ```MonkeyBananaEnvironmentTask```: Main implementation of the environment task. This class contains all the methods relative to the task and to the interaction between the agent and the environment.\n",
    "\n",
    "The first two important methods to consider are the constructor and the visualization (```visualize```). The constructor instantiates an environment of a given size (i.e. a given number of positions on the horizontal axis), given by the room size argument, and the initial position of the banana and of the box. The monkey is assumed to be initially on the floor. The visualization method provides a simple visual representation representation of the room.\n",
    "\n",
    "Note that the notion of task here also incorporates the *objective* of the agent, which is here described as a score. We introduce the parameters of the score:"
   ]
  },
  {
   "cell_type": "code",
   "execution_count": 8,
   "id": "b1f7537e",
   "metadata": {},
   "outputs": [],
   "source": [
    "# Parameters for the score\n",
    "\n",
    "ACTION_PENALTY = .1\n",
    "GRAB_BANANA_REWARD = 5\n",
    "GRAB_ORANGE_REWARD = 2"
   ]
  },
  {
   "cell_type": "markdown",
   "id": "1f24e562",
   "metadata": {},
   "source": [
    "and the main definition of the task:"
   ]
  },
  {
   "cell_type": "code",
   "execution_count": 9,
   "id": "12ad9c06",
   "metadata": {},
   "outputs": [],
   "source": [
    "class MonkeyBananaEnvironmentTask:\n",
    "    \"\"\"\n",
    "    Description of the general environment of the monkey and banana problem\n",
    "    \"\"\"\n",
    "    \n",
    "    \n",
    "    def __init__(self, initial_banana_position: int, initial_box_position: int, room_size: int = 5):\n",
    "        \n",
    "        assert (initial_banana_position >= 0 and initial_banana_position < room_size), \\\n",
    "            \"Banana position must be between 0 and the room size\"\n",
    "            \n",
    "        assert (initial_box_position >= 0 and initial_box_position < room_size), \\\n",
    "            \"Box position must be between 0 and the room size\"\n",
    "        \n",
    "        self.score = 0\n",
    "        self.state = MonkeyBananaState(initial_box_position, initial_banana_position, False)\n",
    "        self.room_size = room_size\n",
    "    \n",
    "    \n",
    "    def _is_box_under_banana(self):\n",
    "        return self.state.banana_position == self.state.box_position\n",
    "    \n",
    "    def visualize(self):\n",
    "        level_2 = [\" \"] * (self.room_size * 2 - 1)\n",
    "        level_2[self.state.banana_position * 2] = '🍌'\n",
    "\n",
    "\n",
    "        if self.state.is_monkey_up:\n",
    "            level_1 = [\" \"] * (self.room_size * 2 - 1)\n",
    "            level_1[self.state.box_position * 2] = '🐒'\n",
    "        else: \n",
    "            level_1 = [\" \"] * (self.room_size * 2)\n",
    "        \n",
    "        if not self.state.is_monkey_up:\n",
    "            level_0 = [\" \"] * (self.room_size * 2 - 2)\n",
    "            level_0[max(self.state.box_position * 2 - 1, 0)] = '██'\n",
    "        else:\n",
    "            level_0 = [\" \"] * (self.room_size * 2 - 1)\n",
    "            level_0[self.state.box_position * 2] = '██'\n",
    "        \n",
    "           \n",
    "        if not(self.state.is_monkey_up):\n",
    "            if self.state.box_position == 0:\n",
    "                level_0[1] = '🐒'\n",
    "            else:\n",
    "                level_0[0] = '🐒'\n",
    "        \n",
    "        box_top =    [\"─\" * self.room_size * 2]\n",
    "        box_bottom = ['─' * self.room_size * 2]\n",
    "        \n",
    "        box_top =    ['┌'] + box_top +    ['┐']\n",
    "        level_2 =    ['|'] + level_2 +    ['|']\n",
    "        level_1 =    ['|'] + level_1 +    ['|']\n",
    "        level_0 =    ['|'] + level_0 +    ['|']\n",
    "        box_bottom = ['└'] + box_bottom + ['┘']\n",
    "\n",
    "        print('\\n')\n",
    "        print('   ', ''.join(box_top))\n",
    "        print('   ', ''.join(level_2))\n",
    "        print('   ', ''.join(level_1))\n",
    "        print('   ', ''.join(level_0))\n",
    "        print('   ', ''.join(box_bottom))\n",
    "        print('\\n')\n",
    "    \n",
    "    \n",
    "    def performance(self):\n",
    "        return self.score\n",
    "    \n",
    "    \n",
    "    def available_actions(self):\n",
    "        if self.state.is_monkey_up:\n",
    "            return [MonkeyBananaAction.GO_DOWN, \n",
    "                    MonkeyBananaAction.GRAB]\n",
    "        else:\n",
    "            return [MonkeyBananaAction.MOVE_BOX_LEFT, \n",
    "                    MonkeyBananaAction.MOVE_BOX_RIGHT,\n",
    "                    MonkeyBananaAction.GRAB,\n",
    "                    MonkeyBananaAction.CLIMB]\n",
    "    \n",
    "    \n",
    "    \n",
    "    def perform_action(self, action: MonkeyBananaAction):\n",
    "        if action == MonkeyBananaAction.GRAB:\n",
    "            if self.state.is_monkey_up and self._is_box_under_banana():\n",
    "                self.score += GRAB_BANANA_REWARD\n",
    "                return True\n",
    "            else:\n",
    "                self.score -= ACTION_PENALTY\n",
    "            \n",
    "        elif action == MonkeyBananaAction.CLIMB:\n",
    "            self.score -= ACTION_PENALTY\n",
    "            self.state.is_monkey_up = True\n",
    "            \n",
    "        elif action == MonkeyBananaAction.GO_DOWN:\n",
    "            self.score -= ACTION_PENALTY\n",
    "            self.state.is_monkey_up = False\n",
    "            \n",
    "        elif action == MonkeyBananaAction.MOVE_BOX_LEFT:\n",
    "            self.score -= ACTION_PENALTY\n",
    "            if self.state.box_position > 0:\n",
    "                self.state.box_position = self.state.box_position - 1\n",
    "        \n",
    "        elif action == MonkeyBananaAction.MOVE_BOX_RIGHT:\n",
    "            self.score -= ACTION_PENALTY\n",
    "            if self.state.box_position < self.room_size - 1:\n",
    "                self.state.box_position = self.state.box_position + 1\n",
    "            \n",
    "        return False\n",
    "    \n",
    "    \n",
    "    def perceive(self):\n",
    "        pass"
   ]
  },
  {
   "cell_type": "markdown",
   "id": "161e8748",
   "metadata": {},
   "source": [
    "### Question 1:\n",
    "\n",
    "Get familiar with this environment, by instantiating an environment of size 10\n",
    "in which the box is located at x = 2 and the banana at x = 4. Visualize this environment."
   ]
  },
  {
   "cell_type": "code",
   "execution_count": 10,
   "id": "482b4b9b",
   "metadata": {},
   "outputs": [
    {
     "name": "stdout",
     "output_type": "stream",
     "text": [
      "\n",
      "\n",
      "    ┌────────────────────┐\n",
      "    |    🍌              |\n",
      "    |                    |\n",
      "    |🐒      ██          |\n",
      "    └────────────────────┘\n",
      "\n",
      "\n"
     ]
    }
   ],
   "source": [
    "#Initialize the environment\n",
    "env = MonkeyBananaEnvironmentTask(2, 4, 10)\n",
    "env.visualize()"
   ]
  },
  {
   "cell_type": "markdown",
   "id": "3e3fb22b",
   "metadata": {},
   "source": [
    "In any state the list of available actions can be retrieved using the ```available_actions``` method. Once the agent selects its action, it can perform it within the environment using the ```perform_action``` method. The method outputs a Boolean which indicates whether the monkey successfully grabbed the banana.\n",
    "\n",
    "### Question 2 \n",
    "Using the environment instantiated in Question 1, write a series of actions that should lead the agent to grabbing the banana. Check that it is successful by implementing it. Using the performance method, compute the score of the agent."
   ]
  },
  {
   "cell_type": "code",
   "execution_count": 11,
   "id": "b03420de",
   "metadata": {},
   "outputs": [
    {
     "name": "stdout",
     "output_type": "stream",
     "text": [
      "Actions available to the agent: [<MonkeyBananaAction.MOVE_BOX_LEFT: 3>, <MonkeyBananaAction.MOVE_BOX_RIGHT: 4>, <MonkeyBananaAction.GRAB: 0>, <MonkeyBananaAction.CLIMB: 1>]\n"
     ]
    }
   ],
   "source": [
    "print(\"Actions available to the agent:\", env.available_actions())"
   ]
  },
  {
   "cell_type": "code",
   "execution_count": 12,
   "id": "1f48838b",
   "metadata": {},
   "outputs": [
    {
     "name": "stdout",
     "output_type": "stream",
     "text": [
      "\n",
      "\n",
      "    ┌────────────────────┐\n",
      "    |    🍌              |\n",
      "    |                    |\n",
      "    |🐒    ██            |\n",
      "    └────────────────────┘\n",
      "\n",
      "\n"
     ]
    },
    {
     "data": {
      "text/plain": [
       "False"
      ]
     },
     "execution_count": 12,
     "metadata": {},
     "output_type": "execute_result"
    }
   ],
   "source": [
    "#Provided SubOptimal Sequence of Actions\n",
    "env.perform_action(MonkeyBananaAction.MOVE_BOX_LEFT)\n",
    "env.visualize()\n",
    "env.perform_action(MonkeyBananaAction.GRAB)"
   ]
  },
  {
   "cell_type": "code",
   "execution_count": 13,
   "id": "1688c05c",
   "metadata": {},
   "outputs": [
    {
     "name": "stdout",
     "output_type": "stream",
     "text": [
      "\n",
      "\n",
      "    ┌────────────────────┐\n",
      "    |    🍌              |\n",
      "    |                    |\n",
      "    |🐒      ██          |\n",
      "    └────────────────────┘\n",
      "\n",
      "\n",
      "-0.1\n",
      "-0.2\n",
      "-0.30000000000000004\n",
      "4.7\n",
      "\n",
      "\n",
      "    ┌────────────────────┐\n",
      "    |    🍌              |\n",
      "    |    🐒              |\n",
      "    |    ██              |\n",
      "    └────────────────────┘\n",
      "\n",
      "\n"
     ]
    }
   ],
   "source": [
    "#OPTIMAL SEQUENCE\n",
    "\n",
    "#Renitialize the environment\n",
    "env = MonkeyBananaEnvironmentTask(2, 4, 10)\n",
    "env.visualize()\n",
    "\n",
    "#Initial Step - Given\n",
    "env.perform_action(MonkeyBananaAction.MOVE_BOX_LEFT)\n",
    "print(env.score)\n",
    "env.perform_action(MonkeyBananaAction.MOVE_BOX_LEFT)\n",
    "print(env.score)\n",
    "env.perform_action(MonkeyBananaAction.CLIMB)\n",
    "print(env.score)\n",
    "env.perform_action(MonkeyBananaAction.GRAB)\n",
    "print(env.score)\n",
    "env.visualize()"
   ]
  },
  {
   "cell_type": "markdown",
   "id": "80c82c87",
   "metadata": {},
   "source": [
    "Some series of actions are sub-optimal, in the sense that they lead to the goal but with a potentially high number of unnecessary actions. For instance, the monkey can start moving the box to the left then to the right. This is sub-optimal because it leads back to the initial state after two actions which are then useless.\n",
    "\n",
    "### Question 3\n",
    "\n",
    "Is the sequence of actions found in the previous question optimal or suboptimal? Is there a unique optimal sequence of actions? Prove the result."
   ]
  },
  {
   "cell_type": "markdown",
   "id": "ea337f8f",
   "metadata": {},
   "source": [
    "*Rough Answer* - The provided sequence of actions in the previous question is not optimal as the monkey is not able to grab the banana at any point at or before, the final step.\n",
    "\n",
    "An optimal sequence of actions can be given by the steps below - \n",
    "1. MOVE BOX LEFT (-0.1 Score)\n",
    "2. MOVE BOX LEFT (-0.1 Score)\n",
    "3. CLIMB (-0.1 Score)\n",
    "4. GRAB (+5 Score)\n",
    "\n"
   ]
  },
  {
   "cell_type": "markdown",
   "id": "e01040b0",
   "metadata": {},
   "source": [
    "We can use a BFS algorithm to iterate in the state search space to work out the optimal sequence of actions. If there is only one such solution, it is then by definition unique. *Working on the proof with rigor*.\n",
    "\n",
    "Intuition - BFS will reach all possible states in the search space, for a finite deterministic system such as this. If BFS finds a sequence of actions that lead to it grabbing the banana, if this is the first sequence that is so - it must be the shortest path, since a shorter path would have been found earlier. \n",
    "\n",
    "*Need to work out the implementation considerations.*"
   ]
  },
  {
   "cell_type": "markdown",
   "id": "ebde1e0e",
   "metadata": {},
   "source": [
    "## Fully vs partially observable environment\n",
    "\n",
    "A third essential component of a task is the perception, i.e. what of the total environment, can be observed by the agent. This is implemented in method perceive, which is left abstract in the ```MonkeyBananaEnvironmentTask``` class. Two variants are proposed: a variant for fully observable environments, and a specific partially observable environment.\n",
    "\n",
    "In a fully observable environment task, the agent perceives the entire state of the environment. This is implemented within the ```MonkeyBananaFOEnvironmentTask```, which is a child class of ```MonkeyBananaEnvironmentTask```. Here the perceive method returns the full state."
   ]
  },
  {
   "cell_type": "code",
   "execution_count": 14,
   "id": "a6914ec4",
   "metadata": {},
   "outputs": [],
   "source": [
    "class MonkeyBananaFOEnvironmentTask(MonkeyBananaEnvironmentTask):\n",
    "    \"\"\"\n",
    "    Fully observable environment\n",
    "    \"\"\"\n",
    "    \n",
    "    def perceive(self):\n",
    "        \"\"\"\n",
    "        In the fully observable environment, the agent observes the whole state\n",
    "        \"\"\"\n",
    "        return self.state\n",
    "    "
   ]
  },
  {
   "cell_type": "markdown",
   "id": "34248962",
   "metadata": {},
   "source": [
    "In a partially observable environment task, the agent does not perceive the exact state. We assume that, in this environment, the monkey can smell the banana when on top of the box. A full description of the probability is given in the last part of the lab session. The observation then describes the position of the box, the position of the monkey, and whether the\n",
    "monkey can smell the banana. It is implemented in class ```MonkeyBananaPartialObservation```. The class ```MonkeyBananaPOEnvironmentTask``` is an implementation of the corresponding environment\n",
    "task."
   ]
  },
  {
   "cell_type": "code",
   "execution_count": 15,
   "id": "d91558ca",
   "metadata": {},
   "outputs": [],
   "source": [
    "@dataclass\n",
    "class MonkeyBananaPartialObservation:\n",
    "    \"\"\"\n",
    "    Class describing the perceived state of the environment, when the position\n",
    "    of the banana is not visible by the monkey. Only the position of the box \n",
    "    and of the monkey are visible. But the monkey can smell the banana\n",
    "    \"\"\"\n",
    "    box_position: int\n",
    "    is_monkey_up: bool\n",
    "    smells_banana: bool\n",
    "        \n",
    "class MonkeyBananaPOEnvironmentTask(MonkeyBananaEnvironmentTask):\n",
    "    \"\"\"\n",
    "    Partially observable environment\n",
    "    \"\"\"\n",
    "    \n",
    "    def perceive(self):\n",
    "        \"\"\"\n",
    "        In the partially observable environment, the agent does not observe the \n",
    "        position of the banana, but can smell the banana. \n",
    "        \"\"\"\n",
    "        smells_banana = False\n",
    "        \n",
    "        proba_smell =  1 / (1 + SMELL_ALPHA * (self.state.banana_position - self.state.box_position)**2)\n",
    "        \n",
    "        if self.state.is_monkey_up and np.random.rand() < proba_smell:\n",
    "            smells_banana = True\n",
    "            \n",
    "            \n",
    "        return MonkeyBananaPartialObservation(self.state.box_position, \n",
    "                                              self.state.is_monkey_up, \n",
    "                                              smells_banana)\n",
    "    "
   ]
  },
  {
   "cell_type": "markdown",
   "id": "e4f0353a",
   "metadata": {},
   "source": [
    "**In the following, we propose several strategies to solve the problem. Feel free to explore them in the order you want!**\n",
    "\n",
    "The generic code for an agent is given in the class ```Agent```:"
   ]
  },
  {
   "cell_type": "code",
   "execution_count": null,
   "id": "b684cae8",
   "metadata": {},
   "outputs": [],
   "source": [
    "class Agent:\n",
    "    \"\"\"\n",
    "    General abstract class for an agent.\n",
    "    \"\"\"\n",
    "    \n",
    "    def choose_action(self, env: MonkeyBananaEnvironmentTask, verbose:str = True):\n",
    "        \"\"\"\n",
    "        (Abstract) Implements the choice of action for the specific agent. \n",
    "\n",
    "        Parameters\n",
    "        ----------\n",
    "        env : MonkeyBananaEnvironmentTask\n",
    "            Current environment.\n",
    "        verbose : str, optional\n",
    "            Allow logs. The default is True.\n",
    "\n",
    "        Returns\n",
    "        -------\n",
    "        action: MonkeyBananaAction\n",
    "            Returns the optimal action.\n",
    "\n",
    "        \"\"\"\n",
    "        pass\n",
    "    \n",
    "    \n",
    "    \n",
    "    def run(self, env: MonkeyBananaEnvironmentTask, n_steps: int, verbose: bool = True):\n",
    "        if verbose:\n",
    "            env.visualize()\n",
    "\n",
    "        for n in range(n_steps):\n",
    "            if verbose:\n",
    "                print(\"\\n======= Step\", n)\n",
    "            action = self.choose_action(env, verbose)\n",
    "            if verbose:\n",
    "                print(\"\\nAction:\", action, \"\\n\")\n",
    "\n",
    "            res = env.perform_action(action)\n",
    "            if res:\n",
    "                if verbose:\n",
    "                    print(\"Victory!\")\n",
    "                    print(\"Total score:\", env.performance())\n",
    "                    print(\"Steps Needed:\", n)\n",
    "                return (env, n)  \n",
    "\n",
    "            if verbose:\n",
    "                env.visualize()\n",
    "\n",
    "        return (env, n_steps)"
   ]
  },
  {
   "cell_type": "markdown",
   "id": "f7d5402e",
   "metadata": {},
   "source": [
    "# Part 2: Random agent\n",
    "\n",
    "The simplest possible agent is a fully random agent. Such an agent makes its decision uniformly at random at each time step, among the available actions."
   ]
  },
  {
   "cell_type": "code",
   "execution_count": 48,
   "id": "e4dfc3e1",
   "metadata": {},
   "outputs": [],
   "source": [
    "class RandomAgent(Agent):\n",
    "    \"\"\"\n",
    "    Random agent (Section 3)\n",
    "    \"\"\"\n",
    "    \n",
    "    def choose_action(self, env: MonkeyBananaEnvironmentTask, verbose:str):\n",
    "        available_actions = env.available_actions()\n",
    "        action = sample(available_actions, 1)[0]\n",
    "        return action"
   ]
  },
  {
   "cell_type": "markdown",
   "id": "1bd4cd15",
   "metadata": {},
   "source": [
    "### Question 4\n",
    "\n",
    "Run 100 random agents and measure the number of steps needed to grab the\n",
    "banana. Compute the average number of steps and plot the distribution. How many agents\n",
    "do find the optimal trajectory?"
   ]
  },
  {
   "cell_type": "code",
   "execution_count": 59,
   "id": "88fe6423",
   "metadata": {},
   "outputs": [
    {
     "name": "stdout",
     "output_type": "stream",
     "text": [
      "Running for step limit: 50\n",
      "Running for step limit: 100\n",
      "Running for step limit: 1000\n",
      "Running for step limit: 5000\n",
      "Running for step limit: 10000\n"
     ]
    },
    {
     "data": {
      "image/png": "[encoded data removed]",
      "text/plain": [
       "<Figure size 800x1500 with 5 Axes>"
      ]
     },
     "metadata": {},
     "output_type": "display_data"
    }
   ],
   "source": [
    "# Step limits to evaluate\n",
    "step_limits = [50, 100, 1000, 5000, 10000]\n",
    "num_agents = 100\n",
    "\n",
    "# Data storage\n",
    "results = {}\n",
    "\n",
    "for n_steps in step_limits:\n",
    "    print(f\"Running for step limit: {n_steps}\")\n",
    "\n",
    "    agents = [RandomAgent() for _ in range(num_agents)]\n",
    "    successful_steps = []\n",
    "\n",
    "    for agent in agents:\n",
    "        agent_env = copy.deepcopy(env)\n",
    "        final_env, steps_taken = agent.run(agent_env, n_steps, verbose=False)\n",
    "\n",
    "        # If the agent finished before exhausting all steps, it succeeded\n",
    "        if steps_taken < n_steps:\n",
    "            successful_steps.append(steps_taken)\n",
    "\n",
    "    results[n_steps] = {\n",
    "        \"success_steps\": successful_steps,\n",
    "        \"avg_steps\": sum(successful_steps) / len(successful_steps) if successful_steps else None,\n",
    "        \"num_successful\": len(successful_steps)\n",
    "    }\n",
    "\n",
    "# Plotting each scenario in its own subplot\n",
    "fig, axes = plt.subplots(len(step_limits), 1, figsize=(8, len(step_limits) * 3), constrained_layout=True)\n",
    "\n",
    "for idx, n_steps in enumerate(step_limits):\n",
    "    stats = results[n_steps]\n",
    "    ax = axes[idx]\n",
    "\n",
    "    if stats[\"success_steps\"]:\n",
    "        ax.hist(stats[\"success_steps\"], bins=20, color='lightgreen', edgecolor='black')\n",
    "        legend_label = f\"Avg Steps: {stats['avg_steps']:.2f}\"\n",
    "    else:\n",
    "        ax.text(0.5, 0.5, \"No successful agents\", ha='center', va='center', fontsize=12, transform=ax.transAxes)\n",
    "        legend_label = \"No successes\"\n",
    "\n",
    "    ax.set_title(f\"Max Steps: {n_steps} | Successes: {stats['num_successful']}/{num_agents}\")\n",
    "    ax.set_xlabel(\"Steps taken (only successful agents)\")\n",
    "    ax.set_ylabel(\"Number of Agents\")\n",
    "    ax.legend([legend_label])\n",
    "    ax.grid(True)\n",
    "\n",
    "plt.suptitle(\"Steps to Reach Goal by Random Agents (Each Step Limit)\", fontsize=16, y=1.02)\n",
    "plt.show()"
   ]
  },
  {
   "cell_type": "markdown",
   "id": "4efb8720",
   "metadata": {},
   "source": [
    "For different step count limits, we can observe the values computed in the above graph with respect to average step count, and number of agents that succeed.\n",
    "Loosely, it seems that with a larger step count, a higher number of agents reach the goal - and for these larger counts (1000 and so on), the average step count is around the 150 - 250 mark."
   ]
  },
  {
   "cell_type": "markdown",
   "id": "6e3d36d6",
   "metadata": {},
   "source": [
    "## Theoretical analysis (optional)\n",
    "\n",
    "In the following part, we will prove that the random agent ends up grabbing the banana with a probability of 1 if we wait long enough. This part is more advanced, fully optional, and not to be done during the session. Feel free to come ask me for help after the lectures if you are stuck! \n",
    "\n",
    "\n",
    "### Question 5.1 (!)\n",
    "What is the probability that the agent performs the optimal sequence of actions? Is this agent rational?\n",
    "\n",
    "*Proposed Answer* - (Inferred from Slides) - abs(b-x)\n",
    "- Intuition - This should be a product of probabilities that cumulatively indicate the chance that the optimal sequence is chosen.\n",
    "If an optimal path has step k0 to kn, it would be, cumulative product of (probability that step k0 is chosen)*(probability that step k1 is chosen)*....*(probability that step kn is chosen)*1.\n",
    "The definition of a rational agent is that - for each possible sequence of past percepts and actions, the agent selects an action that is expected to maximise its performance measure, given the evidence provided by the history and the built in knowledge that it has. Since a random selection of choices inherently does not take the past choices into account, it is then by definition an irrational agent that has this strategy.\n",
    "\n",
    "\n",
    "We will now propose a lower bound of the probability that the agent reaches the banana before time $t$. To do so, we will decompose the trajectory into several segments. \n",
    "\n",
    "### Question 5.2 (!)\n",
    "Knowing that the box starts at position $x \\in \\mathbb{N}$ and that the banana is at position $b \\in \\mathbb{N}$, what is the optimal trajectory? What is the probability that the random agent plays this exact trajectory?\n",
    "\n",
    "*Proposed Answer* - (Inferred from Slides)\n",
    "- Depending on if b-x is positive (banana on right of box), or negative (banana on left of box) - the optimal trajectory is then to select the appropriate number of steps (unidirectionally left or right based on (b-x) value).\n",
    "- Next Step - Climb on Box\n",
    "- Next Step - Grab Banana\n",
    "- So ideally this would be a product of the probabilities of the steps (1/5) for each step. This explanation/solution attempt presumes the monkey is never already on the box. Mathematical Proof required.\n",
    "\n",
    "### Question 5.3 (!)\n",
    "\n",
    "We denote by $T$ the length of this trajectory. Show that for all $t < T$, the probability of victory is 0. What is the probability of victory at time $t = T$? Propose a lower bound and an upper bound of this probability that does not depend on $x$ and $b$ (but can depend on the length $L$ of the environment). \n",
    "\n",
    "In other words, if we wait until time $T$, either the agent just grabs the banana, or we know that the agent did not grab the banana. We know the exact probability of these two events. In case the agent did not grab the banana, we can run the process again. \n",
    "\n",
    "We now use the following notations. We call a *state* the tuple $s = (x, m)$ where $x \\in \\mathbb{N}$ is the position of the box and $m \\in \\lbrace 0, 1 \\rbrace$ is the position of the monkey (0 = down, 1 = up). We designate by $s_{t}$ the state at time $t$. We designate by $v_t \\in \\lbrace 0, 1 \\rbrace$ the victory status. We note by $T_1$ the length of the optimal trajectory starting from $s_0$. \n",
    "\n",
    "In Question 5.3, we have proven the existence of $0 < m, M < 1$, depending on the length $L$ of the environment only, and such that\n",
    "$$\n",
    "    m \\leq p(v_{T_1} = 1 \\ | \\ s_0) \\leq M.\n",
    "$$\n",
    "Starting from state $s_{T_1}$, we can use the same reasoning: there is a unique optimal trajectory leading to victory. We call $T_2$ the time step where this trajectory ends. \n",
    "\n",
    "### Question 5.4 (!)\n",
    "\n",
    "At which time steps~$t \\leq T_2$ do we have $p(v_t = 1 \\ | \\ s_0) > 0$? We denote by $p_2$ the probability that the agent grabs the banana at latest at $t = T_2$. Show that\n",
    "$$\n",
    "p_2 = p(v_{T_1} = 1 \\ | \\ s_0) + p(v_{T_1} = 0 \\ | \\ s_0) \\ p(v_{T_2} = 1 \\ | \\ v_{T_1} = 0, s_0)\n",
    "$$\n",
    "\n",
    "\n",
    "### Question 5.5 (!)\n",
    "\n",
    "Compute lower and upper bounds for $p(v_{T_2} = 1 \\ | \\ s_1)$. By marginalizing over $s_1$, show that \n",
    "$$\n",
    "m \\leq p(v_{T_2} = 1 \\ | \\ v_{T_1} = 0, s_0) \\leq M.\n",
    "$$\n",
    "\n",
    "We can continue the process. For all $k$, we denote by $T_k$ the process where the $k$-th optimal trajectory ends (meaning that the first $k-1$ trajectories were not optimal; in case the optimal trajectory was reached already, we simply take $T_{k} = T_{k-1} + 1$). We denote by $p_k$ the probability that the banana was grabbed before time step $T_k$. \n",
    "\n",
    "### Question 5.6 (!)\n",
    "Show that\n",
    "$$\n",
    "p_{k+1} = p_k + (1 - p_k) \\ p(v_{T_{k+1}} = 1 \\ | \\ v_{T_{1}} = \\dotsc = v_{T_{k}} = 0, s_0).\n",
    "$$\n",
    "and deduce that $(p_k)$ converges toward a finite limit $\\ell \\in (0, 1]$. Observing that the convergence of $(p_k)$ implies that $| p_{k+1} - p_k | \\rightarrow 0$ and using the same reasoning as in Question 5.5, show that $\\ell = 1$."
   ]
  },
  {
   "cell_type": "markdown",
   "id": "bfd4a80f",
   "metadata": {},
   "source": [
    "# Part 3: Simple reflex rule-based agent\n",
    "\n",
    "A rule-based agent takes actions by following a predefined set of (deterministic) rules. Such an agent is implemented in the class ```RuleBasedAgent```. When choosing the actions, the rule-based agent first observes the environment, and then obeys a series of rules.\n",
    "\n",
    "### Question 6\n",
    "\n",
    "Execute the currently implemented rules. What is the behaviour of the agent.\n",
    "Implement a set of rules that guarantee the agent to follow the optimal trajectory."
   ]
  },
  {
   "cell_type": "code",
   "execution_count": null,
   "id": "b4803cec",
   "metadata": {},
   "outputs": [],
   "source": [
    "class RuleBasedAgent(Agent):\n",
    "    \"\"\"\n",
    "    Reflex rule-based agent (Section 4)\n",
    "    \"\"\"\n",
    "    \n",
    "    def choose_action(self, env: MonkeyBananaFOEnvironmentTask, verbose:str):\n",
    "        \n",
    "        observation = env.perceive()\n",
    "        \n",
    "        # TODO: Question\n",
    "        \n",
    "        if observation.is_monkey_up:\n",
    "            return MonkeyBananaAction.GO_DOWN\n",
    "        else:\n",
    "            return MonkeyBananaAction.MOVE_BOX_LEFT"
   ]
  },
  {
   "cell_type": "markdown",
   "id": "24f5fd53",
   "metadata": {},
   "source": [
    "The main problem with rule-based systems is that they require to have a predefined set of rules. In many situations, such rules are not easy to define for the user. This is the reason why most AI techniques aim to be autonomous enough and to avoid relying on some predefined knowledge of the developer.\n",
    "\n",
    "# Part 4: Planning agent\n",
    "\n",
    "The planning agent implemented in class ```PlanningAgent``` explores several potential paths to get to the banana. At each time step, the agent simulates the result of all potential actions it can make, which results in a foreseen future environment (variable ```env_copy```). The planning is then called recursively from this new state. Such a search is called depth-first search.\n"
   ]
  },
  {
   "cell_type": "code",
   "execution_count": null,
   "id": "bfa2e267",
   "metadata": {},
   "outputs": [],
   "source": [
    "class PlanningAgent(Agent):\n",
    "    \"\"\"\n",
    "    Planning agent (Section 5)\n",
    "    \"\"\"\n",
    "    \n",
    "    def _launch_planning(self, env: MonkeyBananaFOEnvironmentTask):\n",
    "        \"\"\"\n",
    "        Method used to launch the planning. To be used only withing choose_action\n",
    "\n",
    "        Parameters\n",
    "        ----------\n",
    "        env : MonkeyBananaFOEnvironmentTask\n",
    "            Environment in the initial state.\n",
    "\n",
    "        Returns\n",
    "        -------\n",
    "        plan_found: bool\n",
    "            Shows whether the planning was succesful.\n",
    "        action: MonkeyBananaAction\n",
    "            Returns the optimal action\n",
    "\n",
    "        \"\"\"\n",
    "        encountered_states = set()\n",
    "        return self._plan(env, encountered_states)\n",
    "        \n",
    "        \n",
    "    \n",
    "    def _plan(self, env: MonkeyBananaFOEnvironmentTask, encountered_states: set):\n",
    "        \"\"\"\n",
    "        Private method used to execute the planning recursively\n",
    "\n",
    "        Parameters\n",
    "        ----------\n",
    "        env : MonkeyBananaFOEnvironmentTask\n",
    "            Environment.\n",
    "        encountered_states : set\n",
    "            States that have already been explored by the search.\n",
    "\n",
    "        Returns\n",
    "        -------\n",
    "        plan_found: bool\n",
    "            Shows whether the planning was succesful.\n",
    "        action: MonkeyBananaAction\n",
    "            Returns the optimal action.\n",
    "\n",
    "        \"\"\"\n",
    "        \n",
    "        perceived_state_representation = env.perceive().vector_representation()\n",
    "        \n",
    "        # TODO: Question 12\n",
    "        \n",
    "        encountered_states.add(perceived_state_representation)\n",
    "        \n",
    "        \n",
    "        available_actions = env.available_actions()\n",
    "        \n",
    "        for action in available_actions:\n",
    "            # Makes a copy of the environment => This copy is used to then execute\n",
    "            # the planning recursively from the new state reached after playing\n",
    "            # the explored action\n",
    "            env_copy = deepcopy(env)\n",
    "            \n",
    "            # Execute the action within the copied environment. \n",
    "            victory = env_copy.perform_action(action)\n",
    "            \n",
    "            if victory:\n",
    "                # This action led to victory => planning is over!\n",
    "                return True, action\n",
    "            \n",
    "            new_state = env_copy.perceive().vector_representation()\n",
    "            \n",
    "            encountered_states_copy = deepcopy(encountered_states)\n",
    "            # Execute the search recursively from the new state\n",
    "            plan_found, _ = self._plan(env_copy, encountered_states_copy)\n",
    "                \n",
    "            if plan_found: return True, action\n",
    "        \n",
    "        return False, None\n",
    "    \n",
    "    def choose_action(self, env: MonkeyBananaFOEnvironmentTask, verbose:str):\n",
    "        plan_found, action = self._launch_planning(env)\n",
    "        \n",
    "        if plan_found:\n",
    "            return action\n",
    "        else:\n",
    "            print(\"no plan found\")\n",
    "            available_actions = env.available_actions()\n",
    "            action = sample(available_actions, 1)[0]\n",
    "            return action"
   ]
  },
  {
   "cell_type": "markdown",
   "id": "44c474e3",
   "metadata": {},
   "source": [
    "### Question 7\n",
    "\n",
    "Launch an instance of the planning agent. You can observe that the search enters an infinite loop. Can you explain why? Fix the code to make the agent avoid infinite loops.\n"
   ]
  },
  {
   "cell_type": "markdown",
   "id": "f75519d7",
   "metadata": {},
   "source": [
    "# Part 5: A Bayesian rule-based agent\n",
    "\n",
    "We consider a variant of the environment where the agent has partial observability: It knows the position of the box and its own position, but ignores the position of the banana. Otherwise, the rules of the environment are exactly the same: in particular, the monkey can grab the banana when on top of the box and under the banana.\n",
    "\n",
    "### Question 8\n",
    "\n",
    "Which of the previous three agents can work in this variant?\n",
    "\n",
    "**The following questions are more advanced, and therefore optional.**\n",
    "\n",
    "We propose a new agent adapted to this setting of partial observability. In this context, the agent does not know the location of the banana but has to guess it. In practice, this means that the agent will observe the environment and build some *belief* about the location of the banana. A belief is defined as a probability distribution over the states of the environment. Here, since the location of the box and of the monkey are known, there is then a finite number of states $s_1, \\dotsc, s_L$ which correspond to each possible position of the banana (in state $s_i$, the banana is located at $i$). Consequently, the belief sums up to a probability distribution over the location of the banana. It is then a vector $\\pi$ of dimension $L$ such that\n",
    "$$\n",
    "    \\sum_{i=1}^L \\pi_i = 1\n",
    "$$\n",
    "\n",
    "If the agent knows that the banana is located in $b$, it would correspond to having a belief $\\pi$ such that $\\pi_b = 1$ and $\\pi_i = 0$ for all $i \\neq b$. Conversely, if the agent has absolutely no idea where the banana is located, its belief would be uniform: $\\pi_1 = \\dotsc = \\pi_L = \\frac{1}{L}$.\n",
    "\n",
    "### Question 9.1 (!)\n",
    "\n",
    "Given a state $s_i$, it is easy to model the observations $o$ made by the agent, using probability $p(o \\ | \\ s_i)$. This however does not provide any (direct) information on the probability of $s_i$. Using Bayes rule and assuming the belief $\\pi_i$, express the quantity $p(s_i \\ | \\ o)$ for the agent, i.e. the belief that the environment is in state $s_i$, as a function of $p(o \\ | \\ s_1), \\dotsc, p(o \\ | \\ s_L)$ and $\\pi$ only.\n",
    "\n",
    "\n",
    "At each step~$t$, after performing an action, the agent gets a new observation $o_t$ and updates its belief by taking $\\pi \\gets p(s_i \\ | \\ o_t)$. This belief update method is called *Bayesian belief update*. In the expression found in Question 9.1:\n",
    "\n",
    "* The term $\\pi_i$ is called the *prior*: it measures the belief that the agent has in each state *before* any new observation;\n",
    "* The term $p(o \\ | \\ s_i)$ is called the *likelihood*: it measures how *likely* every possible observation is according to each state;\n",
    "* The term $p(s_i \\ | \\ o)$ is called the *posterior*: it measures the belief that the agent has in each state *after* it got the new observation\n",
    "\n",
    "We consider that the monkey cannot see the banana, but only smell it when on top of the box. When the monkey is on the box, it can smell the banana with a probability $\\frac{1}{1 + \\alpha |x - b|^2}$ where $\\alpha$ is some sensitivity parameter, $x$ is the position of the box and $b$ is the position of the banana.\n",
    "\n",
    "### Question 9.2 (!)\n",
    "\n",
    "Implement the Bayesian belief update for the ```BayesianAgent``` class, in the method ```update_belief```, with the proposed likelihood.\n"
   ]
  },
  {
   "cell_type": "code",
   "execution_count": null,
   "id": "8ffc0711",
   "metadata": {},
   "outputs": [],
   "source": [
    "class BeliefAgent(Agent):\n",
    "    \"\"\"\n",
    "    Bayesian rule-based agent (Section 6)\n",
    "    \"\"\"\n",
    "    \n",
    "    def __init__(self, env_size: int):\n",
    "        self.env_size = env_size\n",
    "        self.beliefs = np.ones(env_size) / env_size\n",
    "\n",
    "\n",
    "    def update_belief(self, obs: MonkeyBananaPartialObservation):\n",
    "        if not(obs.is_monkey_up): \n",
    "            # Monkey is not on the box => no update\n",
    "            return \n",
    "        \n",
    "        # TODO: 9.1: Implement Bayesian belief update here\n",
    "        self.beliefs = self.beliefs \n",
    "\n",
    "    \n",
    "    def choose_action(self, env: MonkeyBananaPOEnvironmentTask, verbose:str):\n",
    "        # TODO: Question 9.2\n",
    "        if np.any(self.beliefs > 0.7):\n",
    "            return None\n",
    "        return None\n",
    "\n",
    "    "
   ]
  },
  {
   "cell_type": "markdown",
   "id": "f34f43a3",
   "metadata": {},
   "source": [
    "Once the agent updates its beliefs, it must choose an action. Several options are possible here, but we choose to implement a simple strategy:\n",
    "* If some state $s_i$ is associated to a belief $\\pi_i > 0.7$, move the box to this position, climb and try to get the banana. \n",
    "* Otherwise move the box to any position with belief~$\\pi_i > 0.2$ and climb. \n",
    "\n",
    "### Question 9.3 (!)\n",
    "\n",
    "Implement this agent. Don't forget to change the belief update to take into account that $\\pi_i = 0$ in case the monkey tried to grab the banana but did not succeed. "
   ]
  },
  {
   "cell_type": "code",
   "execution_count": null,
   "id": "b5341032",
   "metadata": {},
   "outputs": [],
   "source": []
  }
 ],
 "metadata": {
  "kernelspec": {
   "display_name": "labs",
   "language": "python",
   "name": "python3"
  },
  "language_info": {
   "codemirror_mode": {
    "name": "ipython",
    "version": 3
   },
   "file_extension": ".py",
   "mimetype": "text/x-python",
   "name": "python",
   "nbconvert_exporter": "python",
   "pygments_lexer": "ipython3",
   "version": "3.12.8"
  }
 },
 "nbformat": 4,
 "nbformat_minor": 5
}
